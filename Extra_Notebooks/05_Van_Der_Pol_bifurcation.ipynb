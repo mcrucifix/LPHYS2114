{
 "cells": [
  {
   "cell_type": "markdown",
   "id": "403f4846",
   "metadata": {},
   "source": [
    "# FitzHugh–Nagumo–like system with interactive slider for \\(\\beta\\)\n",
    "\n",
    "We consider the 2D dynamical system\n",
    "\\[\\begin{aligned}\n",
    "\\dot x &= y + \\beta,\\\\[4pt]\n",
    "\\dot y &= y - \\frac{y^3}{3} - x,\n",
    "\\end{aligned}\\]\n",
    "with initial condition \\((x(0),y(0)) = (-1,0)\\) and time span \\(t\\in[0,30]\\).\n",
    "\n",
    "Use the slider to change the parameter \\(\\beta\\in[-2,2]\\). The **top plot** shows the time series \\(x(t)\\) and \\(y(t)\\). The **bottom plot** shows the phase trajectory \\((x(t),y(t))\\).\n",
    "\n",
    "This notebook uses `ipywidgets` + `matplotlib` for interactivity and `scipy.integrate.solve_ivp` to integrate the ODEs.\n"
   ]
  },
  {
   "cell_type": "code",
   "execution_count": 1,
   "id": "57f9cff7",
   "metadata": {},
   "outputs": [],
   "source": [
    "# Imports\n",
    "import numpy as np\n",
    "import matplotlib.pyplot as plt\n",
    "from scipy.integrate import solve_ivp\n",
    "import ipywidgets as widgets\n",
    "from IPython.display import display, clear_output\n",
    "\n",
    "# Default plotting style for readable output\n",
    "plt.rcParams.update({'figure.figsize': (8, 6), 'font.size': 12})\n"
   ]
  },
  {
   "cell_type": "code",
   "execution_count": 8,
   "id": "3ee4fb4a",
   "metadata": {},
   "outputs": [],
   "source": [
    "# System definition and integrator\n",
    "def f(t, z, beta):\n",
    "    x, y = z\n",
    "    dxdt = y + beta\n",
    "    dydt = y - (y**3)/3 - x\n",
    "    return [dxdt, dydt]\n",
    "\n",
    "t_span = (0.0, 30.0)\n",
    "t_eval = np.linspace(t_span[0], t_span[1], 1000)\n",
    "z0 = [-1.0, 0.0]  # initial condition\n"
   ]
  },
  {
   "cell_type": "code",
   "execution_count": 9,
   "id": "fa91c80c",
   "metadata": {},
   "outputs": [],
   "source": [
    "# Plotting function that updates when beta changes\n",
    "def plot_for_beta(beta):\n",
    "    sol = solve_ivp(f, t_span, z0, t_eval=t_eval, args=(beta,), rtol=1e-8, atol=1e-8)\n",
    "    t = sol.t\n",
    "    x = sol.y[0]\n",
    "    y = sol.y[1]\n",
    "\n",
    "    fig, (ax1, ax2) = plt.subplots(2, 1, sharex=False)\n",
    "    # Time series\n",
    "    ax1.plot(t, x, label='x(t)')\n",
    "    ax1.plot(t, y, label='y(t)')\n",
    "    ax1.set_xlim(t_span)\n",
    "    ax1.set_xlabel('t')\n",
    "    ax1.set_ylabel('x, y')\n",
    "    ax1.set_title(f'Time series (\\\\beta = {beta:.3f})')\n",
    "    ax1.legend()\n",
    "    ax1.grid(True)\n",
    "\n",
    "    # Phase portrait (trajectory only)\n",
    "    ax2.plot(x, y, linewidth=1.5)\n",
    "    ax2.plot(x[0], y[0], 'o', label='initial')  # mark initial condition\n",
    "    ax2.set_xlabel('x')\n",
    "    ax2.set_ylabel('y')\n",
    "    ax2.set_title('Phase portrait (trajectory)')\n",
    "    ax2.grid(True)\n",
    "    plt.tight_layout()\n",
    "    plt.show()\n"
   ]
  },
  {
   "cell_type": "code",
   "execution_count": 10,
   "id": "487fe40f",
   "metadata": {},
   "outputs": [
    {
     "data": {
      "application/vnd.jupyter.widget-view+json": {
       "model_id": "6b3f762bbe7a417ea18fa0f63482b1c8",
       "version_major": 2,
       "version_minor": 0
      },
      "text/plain": [
       "FloatSlider(value=0.0, description='$\\\\beta$', layout=Layout(width='80%'), max=2.0, min=-2.0, readout_format='…"
      ]
     },
     "metadata": {},
     "output_type": "display_data"
    },
    {
     "data": {
      "application/vnd.jupyter.widget-view+json": {
       "model_id": "c83bfc15753b411d859dcd85e2536f6e",
       "version_major": 2,
       "version_minor": 0
      },
      "text/plain": [
       "Output()"
      ]
     },
     "metadata": {},
     "output_type": "display_data"
    }
   ],
   "source": [
    "# Create and display the interactive slider\n",
    "beta_slider = widgets.FloatSlider(value=0.0, min=-2.0, max=2.0, step=0.01,\n",
    "                                  description=r'$\\beta$', continuous_update=True, readout_format='.3f',\n",
    "                                  layout=widgets.Layout(width='80%'))\n",
    "\n",
    "out = widgets.Output()\n",
    "\n",
    "def _update(change):\n",
    "    with out:\n",
    "        clear_output(wait=True)\n",
    "        plot_for_beta(change['new'])\n",
    "\n",
    "# Initial plot\n",
    "with out:\n",
    "    plot_for_beta(beta_slider.value)\n",
    "\n",
    "beta_slider.observe(_update, names='value')\n",
    "display(beta_slider, out)\n"
   ]
  },
  {
   "cell_type": "code",
   "execution_count": null,
   "id": "96c2e8c5",
   "metadata": {},
   "outputs": [],
   "source": []
  }
 ],
 "metadata": {
  "kernelspec": {
   "display_name": "Python 3 (ipykernel)",
   "language": "python",
   "name": "python3"
  },
  "language_info": {
   "codemirror_mode": {
    "name": "ipython",
    "version": 3
   },
   "file_extension": ".py",
   "mimetype": "text/x-python",
   "name": "python",
   "nbconvert_exporter": "python",
   "pygments_lexer": "ipython3",
   "version": "3.12.3"
  }
 },
 "nbformat": 4,
 "nbformat_minor": 5
}
