{
 "cells": [
  {
   "cell_type": "markdown",
   "id": "3d06f76c-e595-4eef-b9f3-8e98b29d859a",
   "metadata": {},
   "source": [
    "Here we analyse the fixed points and their stability of the Lorenz - Saltzman model using a symbolic mathematical software  [Maxima](https://maxima.sourceforge.io/Maxima). It is based on the functional programming language [lisp](https://en.wikipedia.org/wiki/Lisp_(programming_language)). This is not the only software around. Wolfram Mathematica is a well-known, very powerful software under paid licence. Matlab also has a symbolic maths package; [SymPy](https://www.sympy.org/en/index.html) has reached a good level of maturity and presents the huge advantage to be in Python, giving access to the `Jupyter` notebook interface and the `matplotib`  interface. This is probably the recommended alternative for someone starting from scratch. Some more discussion of SymPy vs Maxima is available at https://github.com/sympy/sympy/wiki/SymPy-vs.-Maxima. \n",
    "\n",
    "We first define the system with the three time derivatives:\n"
   ]
  },
  {
   "cell_type": "code",
   "execution_count": 1,
   "id": "d5e60005-b72d-4042-8112-99c44ef19f1a",
   "metadata": {},
   "outputs": [
    {
     "data": {
      "text/latex": [
       "\\[\\tag{${\\it \\%o}_{0}$}{\\it dX}\\left(X , Y , Z\\right):=\\sigma\\,\\left(Y-X\\right)\\]"
      ],
      "text/plain": [
       "(%o0)                    dX(X, Y, Z) := sigma (Y - X)"
      ],
      "text/x-maxima": [
       "dX(X,Y,Z):=sigma*(Y-X)"
      ]
     },
     "execution_count": 1,
     "metadata": {},
     "output_type": "execute_result"
    },
    {
     "data": {
      "text/latex": [
       "\\[\\tag{${\\it \\%o}_{1}$}{\\it dY}\\left(X , Y , Z\\right):=X\\,\\left(r-Z\\right)-Y\\]"
      ],
      "text/plain": [
       "(%o1)                    dY(X, Y, Z) := X (r - Z) - Y"
      ],
      "text/x-maxima": [
       "dY(X,Y,Z):=X*(r-Z)-Y"
      ]
     },
     "execution_count": 1,
     "metadata": {},
     "output_type": "execute_result"
    },
    {
     "data": {
      "text/latex": [
       "\\[\\tag{${\\it \\%o}_{2}$}{\\it dZ}\\left(X , Y , Z\\right):=X\\,Y-\\beta\\,Z\\]"
      ],
      "text/plain": [
       "(%o2)                     dZ(X, Y, Z) := X Y - beta Z"
      ],
      "text/x-maxima": [
       "dZ(X,Y,Z):=X*Y-beta*Z"
      ]
     },
     "execution_count": 1,
     "metadata": {},
     "output_type": "execute_result"
    },
    {
     "data": {
      "text/latex": [
       "\\[\\tag{${\\it \\%o}_{3}$}\\left[ \\sigma>0 , r>0 , m>0 \\right] \\]"
      ],
      "text/plain": [
       "(%o3)                      [sigma > 0, r > 0, m > 0]"
      ],
      "text/x-maxima": [
       "[sigma > 0,r > 0,m > 0]"
      ]
     },
     "execution_count": 1,
     "metadata": {},
     "output_type": "execute_result"
    }
   ],
   "source": [
    "dX(X,Y,Z):=sigma * (Y-X);\n",
    "dY(X,Y,Z):=X*(r - Z) - Y;\n",
    "dZ(X,Y,Z):=X*Y - beta * Z;\n",
    "assume(sigma>0, r>0, m>0);"
   ]
  },
  {
   "cell_type": "markdown",
   "id": "f7d9fcd9-259c-45da-a289-06574c4520c2",
   "metadata": {},
   "source": [
    "Solving for all derivatives to be zero generates the fixedp points."
   ]
  },
  {
   "cell_type": "code",
   "execution_count": 2,
   "id": "7326e617-7655-4fb5-a338-d8f7e35b4443",
   "metadata": {},
   "outputs": [
    {
     "data": {
      "text/latex": [
       "\\[\\tag{${\\it \\%o}_{4}$}\\left(Y-X\\right)\\,\\sigma=0\\]"
      ],
      "text/plain": [
       "(%o4)                          (Y - X) sigma = 0"
      ],
      "text/x-maxima": [
       "(Y-X)*sigma = 0"
      ]
     },
     "execution_count": 2,
     "metadata": {},
     "output_type": "execute_result"
    },
    {
     "data": {
      "text/latex": [
       "\\[\\tag{${\\it \\%o}_{5}$}X\\,\\left(r-Z\\right)-Y=0\\]"
      ],
      "text/plain": [
       "(%o5)                          X (r - Z) - Y = 0"
      ],
      "text/x-maxima": [
       "X*(r-Z)-Y = 0"
      ]
     },
     "execution_count": 2,
     "metadata": {},
     "output_type": "execute_result"
    },
    {
     "data": {
      "text/latex": [
       "\\[\\tag{${\\it \\%o}_{6}$}X\\,Y-Z\\,\\beta=0\\]"
      ],
      "text/plain": [
       "(%o6)                          X Y - Z beta = 0"
      ],
      "text/x-maxima": [
       "X*Y-Z*beta = 0"
      ]
     },
     "execution_count": 2,
     "metadata": {},
     "output_type": "execute_result"
    }
   ],
   "source": [
    "eq1: dX(X,Y,Z)=0;\n",
    "eq2: dY(X,Y,Z)=0;\n",
    "eq3: dZ(X,Y,Z)=0;"
   ]
  },
  {
   "cell_type": "code",
   "execution_count": 3,
   "id": "217d864d-f1fd-4af5-8a6d-72b1cabf17e5",
   "metadata": {},
   "outputs": [
    {
     "data": {
      "text/latex": [
       "\\[\\tag{${\\it \\%o}_{7}$}\\left[ \\left[ X=\\sqrt{\\beta\\,r-\\beta} , Y=\\sqrt{\\beta\\,r-\\beta} , Z=r-1 \\right]  , \\left[ X=-\\sqrt{\\beta\\,r-\\beta} , Y=-\\sqrt{\\beta\\,r-\\beta} , Z=r-1 \\right]  , \\left[ X=0 , Y=0 , Z=0 \\right]  \\right] \\]"
      ],
      "text/plain": [
       "(%o7) [[X = sqrt(beta r - beta), Y = sqrt(beta r - beta), Z = r - 1], \n",
       "[X = - sqrt(beta r - beta), Y = - sqrt(beta r - beta), Z = r - 1], \n",
       "[X = 0, Y = 0, Z = 0]]"
      ],
      "text/x-maxima": [
       "[[X = sqrt(beta*r-beta),Y = sqrt(beta*r-beta),Z = r-1],\n",
       " [X = -sqrt(beta*r-beta),Y = -sqrt(beta*r-beta),Z = r-1],[X = 0,Y = 0,Z = 0]]"
      ]
     },
     "execution_count": 3,
     "metadata": {},
     "output_type": "execute_result"
    }
   ],
   "source": [
    "sols:solve([eq1,eq2,eq3],[X,Y,Z]);"
   ]
  },
  {
   "cell_type": "markdown",
   "id": "8ba50fba-a101-43f5-9117-4b1146103980",
   "metadata": {},
   "source": [
    "We recognize the trivial fixed point, as well as the two symmetric fixed points on both sides of the $z-$axis, which  take real values only for $\\rho>1$. \n",
    "\n",
    "The Jacobian of the derivatives is computed as follows:"
   ]
  },
  {
   "cell_type": "code",
   "execution_count": 4,
   "id": "fad3c577-24cf-48e5-bb93-85e321ee0db0",
   "metadata": {},
   "outputs": [
    {
     "data": {
      "text/latex": [
       "\\[\\tag{${\\it \\%o}_{8}$}\\begin{pmatrix}-\\sigma & \\sigma & 0 \\\\ r-Z & -1 & -X \\\\ Y & X & -\\beta \\\\ \\end{pmatrix}\\]"
      ],
      "text/plain": [
       "                          [ - sigma  sigma    0    ]\n",
       "                          [                        ]\n",
       "(%o8)                     [  r - Z    - 1    - X   ]\n",
       "                          [                        ]\n",
       "                          [    Y       X    - beta ]"
      ],
      "text/x-maxima": [
       "matrix([-sigma,sigma,0],[r-Z,-1,-X],[Y,X,-beta])"
      ]
     },
     "execution_count": 4,
     "metadata": {},
     "output_type": "execute_result"
    }
   ],
   "source": [
    "J:jacobian([dX(X,Y,Z),dY(X,Y,Z),dZ(X,Y,Z)],[X,Y,Z]);"
   ]
  },
  {
   "cell_type": "markdown",
   "id": "9514387a-9191-4676-a505-d35344f2238e",
   "metadata": {},
   "source": [
    "We first evaluated the Jacobian at the trivial fixed point and consider its eigenvalues. `Maxima` gives us the three eigenvalues and their multiplicity. The `rhs` and `lhs` functions return the right-hand-side and left-hand-side of an expression, respectively"
   ]
  },
  {
   "cell_type": "code",
   "execution_count": 5,
   "id": "33e34481-9d58-4cb0-9805-897e01a59fe2",
   "metadata": {},
   "outputs": [
    {
     "data": {
      "text/latex": [
       "\\[\\tag{${\\it \\%o}_{9}$}\\begin{pmatrix}-\\sigma & \\sigma & 0 \\\\ r & -1 & 0 \\\\ 0 & 0 & -\\beta \\\\ \\end{pmatrix}\\]"
      ],
      "text/plain": [
       "                          [ - sigma  sigma    0    ]\n",
       "                          [                        ]\n",
       "(%o9)                     [    r      - 1     0    ]\n",
       "                          [                        ]\n",
       "                          [    0       0    - beta ]"
      ],
      "text/x-maxima": [
       "matrix([-sigma,sigma,0],[r,-1,0],[0,0,-beta])"
      ]
     },
     "execution_count": 5,
     "metadata": {},
     "output_type": "execute_result"
    }
   ],
   "source": [
    "J0:psubst(sols[3],J);"
   ]
  },
  {
   "cell_type": "code",
   "execution_count": 6,
   "id": "57b47c32-9be7-402b-ba7f-086e1540e5b5",
   "metadata": {},
   "outputs": [
    {
     "data": {
      "text/latex": [
       "\\[\\tag{${\\it \\%o}_{11}$}\\left[ \\left[ -\\frac{\\sqrt{\\sigma^2+\\left(4\\,r-2\\right)\\,\\sigma+1}+\\sigma+1}{2} , \\frac{\\sqrt{\\sigma^2+\\left(4\\,r-2\\right)\\,\\sigma+1}-\\sigma-1}{2} , -\\beta \\right]  , \\left[ 1 , 1 , 1 \\right]  \\right] \\]"
      ],
      "text/plain": [
       "                     2\n",
       "           sqrt(sigma  + (4 r - 2) sigma + 1) + sigma + 1\n",
       "(%o11) [[- ----------------------------------------------, \n",
       "                                 2\n",
       "                      2\n",
       "            sqrt(sigma  + (4 r - 2) sigma + 1) - sigma - 1\n",
       "            ----------------------------------------------, - beta], [1, 1, 1]]\n",
       "                                  2"
      ],
      "text/x-maxima": [
       "[[-(sqrt(sigma^2+(4*r-2)*sigma+1)+sigma+1)/2,\n",
       "  (sqrt(sigma^2+(4*r-2)*sigma+1)-sigma-1)/2,-beta],[1,1,1]]"
      ]
     },
     "execution_count": 6,
     "metadata": {},
     "output_type": "execute_result"
    }
   ],
   "source": [
    "simp:true$\n",
    "eJ0:eigenvalues(J0);"
   ]
  },
  {
   "cell_type": "markdown",
   "id": "0f347087-d547-49ea-85cb-781bc17f2e4c",
   "metadata": {},
   "source": [
    "We recognise the double root (first and second solutions), and the $-\\beta$ eigenvalue along the $z$ axis. The trivial fixed point becomes a saddle when the first (and second) eigenvalue reach zero:"
   ]
  },
  {
   "cell_type": "code",
   "execution_count": 7,
   "id": "7d8ffeb1-587e-4eea-bd8e-78cf405d6c1f",
   "metadata": {},
   "outputs": [
    {
     "data": {
      "text/latex": [
       "\\[\\tag{${\\it \\%o}_{12}$}\\left[ r=1 \\right] \\]"
      ],
      "text/plain": [
       "(%o12)                              [r = 1]"
      ],
      "text/x-maxima": [
       "[r = 1]"
      ]
     },
     "execution_count": 7,
     "metadata": {},
     "output_type": "execute_result"
    }
   ],
   "source": [
    "solve(eJ0[1][2],r);"
   ]
  },
  {
   "cell_type": "markdown",
   "id": "d4042919-5269-43e0-830e-d8a826efa50a",
   "metadata": {},
   "source": [
    "Consider now the non-trivial fixed point, which become real for $r>1$."
   ]
  },
  {
   "cell_type": "code",
   "execution_count": 8,
   "id": "503bfdd5-3186-4d55-b732-b8cedf0087b1",
   "metadata": {},
   "outputs": [
    {
     "data": {
      "text/latex": [
       "\\[\\tag{${\\it \\%o}_{13}$}\\left[ r>1 \\right] \\]"
      ],
      "text/plain": [
       "(%o13)                              [r > 1]"
      ],
      "text/x-maxima": [
       "[r > 1]"
      ]
     },
     "execution_count": 8,
     "metadata": {},
     "output_type": "execute_result"
    }
   ],
   "source": [
    "assume(r>1);"
   ]
  },
  {
   "cell_type": "code",
   "execution_count": 9,
   "id": "dc13b47f-9d53-40c7-afd7-58ed89d5d8f3",
   "metadata": {},
   "outputs": [
    {
     "data": {
      "text/latex": [
       "\\[\\tag{${\\it \\%o}_{14}$}\\begin{pmatrix}-\\sigma & \\sigma & 0 \\\\ 1 & -1 & -\\sqrt{\\beta\\,r-\\beta} \\\\ \\sqrt{\\beta\\,r-\\beta} & \\sqrt{\\beta\\,r-\\beta} & -\\beta \\\\ \\end{pmatrix}\\]"
      ],
      "text/plain": [
       "       [       - sigma               sigma                   0           ]\n",
       "       [                                                                 ]\n",
       "(%o14) [          1                   - 1          - sqrt(beta r - beta) ]\n",
       "       [                                                                 ]\n",
       "       [ sqrt(beta r - beta)  sqrt(beta r - beta)         - beta         ]"
      ],
      "text/x-maxima": [
       "matrix([-sigma,sigma,0],[1,-1,-sqrt(beta*r-beta)],\n",
       "       [sqrt(beta*r-beta),sqrt(beta*r-beta),-beta])"
      ]
     },
     "execution_count": 9,
     "metadata": {},
     "output_type": "execute_result"
    }
   ],
   "source": [
    "J1:psubst(sols[1],J);"
   ]
  },
  {
   "cell_type": "markdown",
   "id": "0c165e48-d7f3-4b88-8f4f-8a906d3b058b",
   "metadata": {},
   "source": [
    "We could repeat the approach for the non-trivial fixed points and also ask `maxima` to compute the eigenvalues but this is unwise. The expressions are very heavy and we can do better. Heaving a computer algebra system should not stop us from thinking. Indeed, consider rather the characteristic polynomial $P(\\lambda; \\beta, \\sigma, \\rho)$, defined as the determinant $\\text{det}(\\lambda 1 - J)$ matrix. \n"
   ]
  },
  {
   "cell_type": "code",
   "execution_count": 10,
   "id": "bc31a4e1-8611-41e5-9145-a2ab7aae707e",
   "metadata": {},
   "outputs": [
    {
     "data": {
      "text/latex": [
       "\\[\\tag{${\\it \\%o}_{15}$}\\lambda^3+\\left(\\sigma+\\beta+1\\right)\\,\\lambda^2+\\left(\\beta\\,\\sigma+\\beta\\,r\\right)\\,\\lambda+\\left(2\\,\\beta\\,r-2\\,\\beta\\right)\\,\\sigma\\]"
      ],
      "text/plain": [
       "             3                            2\n",
       "(%o15) lambda  + (sigma + beta + 1) lambda  + (beta sigma + beta r) lambda\n",
       "                                                    + (2 beta r - 2 beta) sigma"
      ],
      "text/x-maxima": [
       "lambda^3+(sigma+beta+1)*lambda^2+(beta*sigma+beta*r)*lambda\n",
       "        +(2*beta*r-2*beta)*sigma"
      ]
     },
     "execution_count": 10,
     "metadata": {},
     "output_type": "execute_result"
    }
   ],
   "source": [
    "carpol:rat(determinant(diagmatrix(3,lambda)-J1), lambda);"
   ]
  },
  {
   "cell_type": "code",
   "execution_count": 11,
   "id": "c60f9929-b78c-4709-802b-1b166d2a3adb",
   "metadata": {},
   "outputs": [
    {
     "data": {
      "text/latex": [
       "\\[\\tag{${\\it \\%o}_{16}$}3\\,\\lambda^2+\\left(2\\,\\sigma+2\\,\\beta+2\\right)\\,\\lambda+\\beta\\,\\sigma+\\beta\\,r\\]"
      ],
      "text/plain": [
       "                2\n",
       "(%o16)  3 lambda  + (2 sigma + 2 beta + 2) lambda + beta sigma + beta r"
      ],
      "text/x-maxima": [
       "3*lambda^2+(2*sigma+2*beta+2)*lambda+beta*sigma+beta*r"
      ]
     },
     "execution_count": 11,
     "metadata": {},
     "output_type": "execute_result"
    }
   ],
   "source": [
    "dcarpoldl:diff(carpol,lambda);"
   ]
  },
  {
   "cell_type": "markdown",
   "id": "a061df47-7e9e-4eaf-b1a6-b3b20cefc906",
   "metadata": {},
   "source": [
    "For positive values of the parameters, all coefficients of the polynomial are positive, and the theory of cubic equations tells us that, in this case, all roots _must_ be either real negative, or complex. It is easy enough to consider the case $r=1$, at which the roots are all real, and negative. By continuity, we expect all roots to be real negatives for $r$ slightly above 1. But they could become imaginary. \n",
    "\n",
    "This transition from negative real to imaginary roots occurs when two roots merge, and occur at an extrema of the $P(\\lambda)$. Assuming $\\beta$ and $\\sigma$ given, the critical value of the parameter $r$ (called $r_1$) at which roots become complex must therefore satisfy $P(\\lambda;r)=P^\\prime(\\lambda;r)=0$ (where the $^\\prime$ symbol denotes a derivative with respect to $\\lambda$). So we first solve $P^\\prime(\\lambda;r)$. \n"
   ]
  },
  {
   "cell_type": "code",
   "execution_count": 12,
   "id": "9b3fc094-0204-4b47-9f10-d8d2215038bb",
   "metadata": {
    "scrolled": true
   },
   "outputs": [
    {
     "data": {
      "text/latex": [
       "\\[\\tag{${\\it \\%o}_{18}$}\\lambda=-\\frac{\\sqrt{\\sigma^2+\\left(2-\\beta\\right)\\,\\sigma-3\\,\\beta\\,r+\\beta^2+2\\,\\beta+1}+\\sigma+\\beta+1}{3}\\]"
      ],
      "text/plain": [
       "                             2                                     2\n",
       "(%o18) lambda = - (sqrt(sigma  + (2 - beta) sigma - 3 beta r + beta  + 2 beta\n",
       "                                                     + 1) + sigma + beta + 1)/3"
      ],
      "text/x-maxima": [
       "lambda = -(sqrt(sigma^2+(2-beta)*sigma-3*beta*r+beta^2+2*beta+1)+sigma+beta+1)\n",
       "       /3"
      ]
     },
     "execution_count": 12,
     "metadata": {},
     "output_type": "execute_result"
    },
    {
     "data": {
      "text/latex": [
       "\\[\\tag{${\\it \\%o}_{19}$}\\lambda=\\frac{\\sqrt{\\sigma^2+\\left(2-\\beta\\right)\\,\\sigma-3\\,\\beta\\,r+\\beta^2+2\\,\\beta+1}-\\sigma-\\beta-1}{3}\\]"
      ],
      "text/plain": [
       "                           2                                     2\n",
       "(%o19) lambda = (sqrt(sigma  + (2 - beta) sigma - 3 beta r + beta  + 2 beta\n",
       "                                                     + 1) - sigma - beta - 1)/3"
      ],
      "text/x-maxima": [
       "lambda = (sqrt(sigma^2+(2-beta)*sigma-3*beta*r+beta^2+2*beta+1)-sigma-beta-1)\n",
       "       /3"
      ]
     },
     "execution_count": 12,
     "metadata": {},
     "output_type": "execute_result"
    }
   ],
   "source": [
    "SS:solve(dcarpoldl, lambda)$\n",
    "SS[1];\n",
    "SS[2];"
   ]
  },
  {
   "cell_type": "markdown",
   "id": "7f532ce8",
   "metadata": {},
   "source": [
    "The roots naturally have the form $\\lambda_\\pm=a\\pm \\sqrt{b}$ and we inspect here the $\\lambda_+$ solution (this is the solution for the local minimum, which comes as the second root; see graph below). We substitute this solution in the expression for $P(\\lambda;r)$:"
   ]
  },
  {
   "cell_type": "code",
   "execution_count": 13,
   "id": "c8057257-689b-409b-92e5-60c3f2cae8e2",
   "metadata": {},
   "outputs": [
    {
     "data": {
      "text/latex": [
       "\\[\\tag{${\\it \\%o}_{20}$}\\frac{\\frac{\\left(\\sqrt{\\frac{961}{9}-8\\,r}-\\frac{41}{3}\\right)\\,\\left(8\\,r+80\\right)}{3}+160\\,r+\\frac{\\left(\\sqrt{\\frac{961}{9}-8\\,r}-\\frac{41}{3}\\right)^3}{9}+\\frac{41\\,\\left(\\sqrt{\\frac{961}{9}-8\\,r}-\\frac{41}{3}\\right)^2}{9}-160}{3}\\]"
      ],
      "text/plain": [
       "              961          41                             961          41 3\n",
       "        (sqrt(--- - 8 r) - --) (8 r + 80)           (sqrt(--- - 8 r) - --)\n",
       "               9           3                               9           3\n",
       "(%o20) (--------------------------------- + 160 r + -----------------------\n",
       "                        3                                      9\n",
       "                                                     961          41 2\n",
       "                                            41 (sqrt(--- - 8 r) - --)\n",
       "                                                      9           3\n",
       "                                          + -------------------------- - 160)/3\n",
       "                                                        9"
      ],
      "text/x-maxima": [
       "(((sqrt(961/9-8*r)-41/3)*(8*r+80))/3+160*r+(sqrt(961/9-8*r)-41/3)^3/9\n",
       "                                    +(41*(sqrt(961/9-8*r)-41/3)^2)/9-160)\n",
       " /3"
      ]
     },
     "execution_count": 13,
     "metadata": {},
     "output_type": "execute_result"
    }
   ],
   "source": [
    "S3:ev(subst(SS[2], carpol), sigma=10, beta=8/3);"
   ]
  },
  {
   "cell_type": "markdown",
   "id": "564c310e-fafd-4feb-b01f-ab4e1bf59988",
   "metadata": {},
   "source": [
    "And the critical value for $r$ that we are looking for is the one that will make this expression equal to zero. As the algebraic expression is involved, we provide here a numerical estimate of the root. "
   ]
  },
  {
   "cell_type": "code",
   "execution_count": 14,
   "id": "72d4242a-7bed-40ac-ad06-9324556c7961",
   "metadata": {},
   "outputs": [
    {
     "data": {
      "text/latex": [
       "\\[\\tag{${\\it \\%o}_{21}$}1.345617179232956\\]"
      ],
      "text/plain": [
       "(%o21)                         1.345617179232956"
      ],
      "text/x-maxima": [
       "1.345617179232956"
      ]
     },
     "execution_count": 14,
     "metadata": {},
     "output_type": "execute_result"
    }
   ],
   "source": [
    "r1 : find_root(S3, r, 1, 3);"
   ]
  },
  {
   "cell_type": "markdown",
   "id": "90d5ba31",
   "metadata": {},
   "source": [
    "We show the behaviour of $P(\\lambda)$ for different values of $r$ and this will help us to visualise the specific behaviour at $r$:"
   ]
  },
  {
   "cell_type": "code",
   "execution_count": 20,
   "id": "e69cc2e0-0153-4155-972d-dc5d4cf99fd7",
   "metadata": {
    "tags": []
   },
   "outputs": [
    {
     "data": {
      "text/latex": [
       "\\[\\tag{${\\it \\%o}_{31}$}1.345617179232956\\]"
      ],
      "text/plain": [
       "(%o31)                         1.345617179232956"
      ],
      "text/x-maxima": [
       "1.345617179232956"
      ]
     },
     "execution_count": 20,
     "metadata": {},
     "output_type": "execute_result"
    },
    {
     "name": "stdout",
     "output_type": "stream",
     "text": [
      "\n",
      "rat: replaced -5.333333333333332 by -16/3 = -5.333333333333333\n",
      "\n",
      "rat: replaced 29.06666666666667 by 436/15 = 29.06666666666667\n",
      "\n",
      "rat: replaced 18.43291622575767 by 86208740/4676891 = 18.43291622575767\n",
      "\n",
      "rat: replaced 30.25497914462122 by 208574952/6893905 = 30.25497914462123\n",
      "\n",
      "rat: replaced 37.33333333333334 by 112/3 = 37.33333333333334\n",
      "\n",
      "rat: replaced 31.2 by 156/5 = 31.2\n"
     ]
    }
   ],
   "source": [
    "r1;\n",
    "setoption(legend, \"r=0.9\",\"r=1.3456\",\"r=1.7\")$\n",
    "plot2d([ev(carpol, sigma=10, beta=8/3, r=0.9), \n",
    "        ev(carpol, sigma=10, beta=8/3, r=r1), \n",
    "        ev(carpol, sigma=10, beta=8/3, r=1.7)], \n",
    "        [lambda,-12,0], [legend,\"r=0.9\",\"r=r_crit\",\"r=1.7\"],\n",
    "        [pdf_file, \"/home/mcrucifix/Documents/Enseignement/LPHYS2114/Git/Jupyter/carpol.pdf\"])$"
   ]
  },
  {
   "cell_type": "markdown",
   "id": "6b76181f-5b92-495d-b70e-d99378ed6867",
   "metadata": {},
   "source": [
    "![](./carpol.pdf)"
   ]
  },
  {
   "cell_type": "markdown",
   "id": "dd87bcc4-7846-4b84-9fd6-bbde9737faf6",
   "metadata": {},
   "source": [
    "All we can say at this point is that for $r>r_1$ the roots  are complex, but numerical inspection shows that the points still act as attracting centers. They become repellers when the real part of the eigenvalue becomes positive. The critical value of the parameter $r$ from where instability emerges, called $r_H$, must then satisfy $P(i\\omega;r)=0$, for real, non-zero $\\omega$. This will be the boundary between negative and positive real parts.  The correspoding equation reads:\n"
   ]
  },
  {
   "cell_type": "code",
   "execution_count": 16,
   "id": "e3bb98f6-3255-4086-948d-d419254a16a5",
   "metadata": {},
   "outputs": [
    {
     "data": {
      "text/latex": [
       "\\[\\tag{${\\it \\%o}_{25}$}i\\,\\omega\\,\\left(\\beta\\,\\sigma+\\beta\\,r\\right)-\\omega^2\\,\\left(\\sigma+\\beta+1\\right)+\\left(2\\,\\beta\\,r-2\\,\\beta\\right)\\,\\sigma-i\\,\\omega^3\\]"
      ],
      "text/plain": [
       "                                             2\n",
       "(%o25) %i omega (beta sigma + beta r) - omega  (sigma + beta + 1)\n",
       "                                                                              3\n",
       "                                        + (2 beta r - 2 beta) sigma - %i omega"
      ],
      "text/x-maxima": [
       "%i*omega*(beta*sigma+beta*r)-omega^2*(sigma+beta+1)+(2*beta*r-2*beta)*sigma\n",
       "                            -%i*omega^3"
      ]
     },
     "execution_count": 16,
     "metadata": {},
     "output_type": "execute_result"
    }
   ],
   "source": [
    "eqw:subst([lambda=sqrt(-1)*omega], carpol);"
   ]
  },
  {
   "cell_type": "markdown",
   "id": "72102f48-43ea-44b5-a106-6634822faa71",
   "metadata": {},
   "source": [
    "And given that all parameters are real, it actually generates two equations by considering together the real and imaginary parts.  Solving the combination gives:\n"
   ]
  },
  {
   "cell_type": "code",
   "execution_count": 17,
   "id": "6758877a-868a-4ebc-ab6b-23d3f2ce7e28",
   "metadata": {},
   "outputs": [
    {
     "data": {
      "text/latex": [
       "\\[\\tag{${\\it \\%o}_{27}$}\\left[ r=1 , \\omega=0 \\right] \\]"
      ],
      "text/plain": [
       "(%o27)                        [r = 1, omega = 0]"
      ],
      "text/x-maxima": [
       "[r = 1,omega = 0]"
      ]
     },
     "execution_count": 17,
     "metadata": {},
     "output_type": "execute_result"
    },
    {
     "data": {
      "text/latex": [
       "\\[\\tag{${\\it \\%o}_{28}$}\\left[ r=\\frac{\\sigma^2+\\left(\\beta+3\\right)\\,\\sigma}{\\sigma-\\beta-1} , \\omega=-\\sqrt{2}\\,\\sqrt{\\sigma}\\,\\sqrt{\\sigma+1}\\,\\sqrt{\\frac{\\beta}{\\sigma-\\beta-1}} \\right] \\]"
      ],
      "text/plain": [
       "                 2\n",
       "            sigma  + (beta + 3) sigma\n",
       "(%o28) [r = -------------------------, \n",
       "                sigma - beta - 1\n",
       "                                                                   beta\n",
       "          omega = - sqrt(2) sqrt(sigma) sqrt(sigma + 1) sqrt(----------------)]\n",
       "                                                             sigma - beta - 1"
      ],
      "text/x-maxima": [
       "[r = (sigma^2+(beta+3)*sigma)/(sigma-beta-1),\n",
       " omega = -sqrt(2)*sqrt(sigma)*sqrt(sigma+1)*sqrt(beta/(sigma-beta-1))]"
      ]
     },
     "execution_count": 17,
     "metadata": {},
     "output_type": "execute_result"
    }
   ],
   "source": [
    "\n",
    "SOL:solve([realpart(eqw), imagpart(eqw)], [r,omega])$\n",
    "SOL[1];\n",
    "SOL[2];"
   ]
  },
  {
   "cell_type": "markdown",
   "id": "f0b2e62a-3621-45ff-a59f-f56efb0c874a",
   "metadata": {},
   "source": [
    "Again we have two roots but the trivial one $\\omega=0$ does not interest us. The second is the relevant one, which we evaluate for the canonical parameers of the Lorenz model:"
   ]
  },
  {
   "cell_type": "code",
   "execution_count": 18,
   "id": "f492231c-e1c4-4052-b626-095f1b0e574f",
   "metadata": {},
   "outputs": [
    {
     "data": {
      "text/latex": [
       "\\[\\tag{${\\it \\%o}_{29}$}\\frac{470}{19}\\]"
      ],
      "text/plain": [
       "                                      470\n",
       "(%o29)                                ---\n",
       "                                      19"
      ],
      "text/x-maxima": [
       "470/19"
      ]
     },
     "execution_count": 18,
     "metadata": {},
     "output_type": "execute_result"
    }
   ],
   "source": [
    "rh:ev(rhs(SOL[2][1]), sigma=10, beta=8/3);"
   ]
  },
  {
   "cell_type": "code",
   "execution_count": 19,
   "id": "c004296e-4c23-472c-bee1-b58e092076b7",
   "metadata": {},
   "outputs": [
    {
     "data": {
      "text/latex": [
       "\\[\\tag{${\\it \\%o}_{30}$}24.73684210526316\\]"
      ],
      "text/plain": [
       "(%o30)                         24.73684210526316"
      ],
      "text/x-maxima": [
       "24.73684210526316"
      ]
     },
     "execution_count": 19,
     "metadata": {},
     "output_type": "execute_result"
    }
   ],
   "source": [
    "float(rh);"
   ]
  },
  {
   "cell_type": "markdown",
   "id": "cab7d7cd-d467-4423-afc7-faaaa4183ad5",
   "metadata": {},
   "source": [
    "And allows us to conclude about the critical parameter $r_H$. "
   ]
  }
 ],
 "metadata": {
  "kernelspec": {
   "display_name": "Maxima",
   "language": "maxima",
   "name": "maxima"
  },
  "language_info": {
   "codemirror_mode": "maxima",
   "file_extension": ".mac",
   "mimetype": "text/x-maxima",
   "name": "maxima",
   "pygments_lexer": "maxima",
   "version": "5.46.0"
  }
 },
 "nbformat": 4,
 "nbformat_minor": 5
}
